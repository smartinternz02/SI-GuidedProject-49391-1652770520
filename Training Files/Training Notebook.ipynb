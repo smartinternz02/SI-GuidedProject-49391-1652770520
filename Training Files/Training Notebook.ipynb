{
 "cells": [
  {
   "cell_type": "markdown",
   "metadata": {},
   "source": [
    "# ECG arrhythmia classification using CNN"
   ]
  },
  {
   "cell_type": "code",
   "execution_count": 1,
   "metadata": {},
   "outputs": [
    {
     "data": {
      "text/plain": [
       "'C:\\\\Users\\\\Ishika Naik\\\\Desktop\\\\Work\\\\Smartbridge\\\\Notebook Implementation'"
      ]
     },
     "execution_count": 1,
     "metadata": {},
     "output_type": "execute_result"
    }
   ],
   "source": [
    "pwd"
   ]
  },
  {
   "cell_type": "code",
   "execution_count": 2,
   "metadata": {},
   "outputs": [],
   "source": [
    "# !pip install keras==2.2.4\n",
    "# !pip install tensorflow"
   ]
  },
  {
   "cell_type": "markdown",
   "metadata": {},
   "source": [
    "### Importing Neccessary Libraries"
   ]
  },
  {
   "cell_type": "code",
   "execution_count": 3,
   "metadata": {},
   "outputs": [],
   "source": [
    "import numpy as np#used for numerical analysis\n",
    "import tensorflow #open source used for both ML and DL for computation\n",
    "from tensorflow.keras.models import Sequential #it is a plain stack of layers\n",
    "from tensorflow.keras import layers #A layer consists of a tensor-in tensor-out computation function\n",
    "#Dense layer is the regular deeply connected neural network layer\n",
    "from tensorflow.keras.layers import Dense,Flatten\n",
    "#Faltten-used fot flattening the input or change the dimension\n",
    "from tensorflow.keras.layers import Conv2D,MaxPooling2D #Convolutional layer\n",
    "#MaxPooling2D-for downsampling the image\n",
    "from keras.preprocessing.image import ImageDataGenerator\n"
   ]
  },
  {
   "cell_type": "markdown",
   "metadata": {},
   "source": [
    "### Image Data Agumentation"
   ]
  },
  {
   "cell_type": "code",
   "execution_count": 4,
   "metadata": {},
   "outputs": [],
   "source": [
    "#setting parameter for Image Data agumentation to the traing data\n",
    "train_datagen=ImageDataGenerator(rescale=1./255,shear_range=0.2,zoom_range=0.2,horizontal_flip=True)"
   ]
  },
  {
   "cell_type": "code",
   "execution_count": 5,
   "metadata": {},
   "outputs": [],
   "source": [
    "#Image Data agumentation to the testing data\n",
    "test_datagen=ImageDataGenerator(rescale=1./255)"
   ]
  },
  {
   "cell_type": "markdown",
   "metadata": {},
   "source": [
    "### Loading our data and performing data agumentation"
   ]
  },
  {
   "cell_type": "code",
   "execution_count": 7,
   "metadata": {},
   "outputs": [],
   "source": [
    "\n",
    "# import os, types\n",
    "# import pandas as pd\n",
    "# from botocore.client import Config\n",
    "# import ibm_boto3\n",
    "\n",
    "# def __iter__(self): return 0\n",
    "\n",
    "# # @hidden_cell\n",
    "# # The following code accesses a file in your IBM Cloud Object Storage. It includes your credentials.\n",
    "# # You might want to remove those credentials before you share the notebook.\n",
    "\n",
    "# if os.environ.get('RUNTIME_ENV_LOCATION_TYPE') == 'external':\n",
    "#     endpoint_69c05974e5c84795a978662af2736fc1 = 'https://s3.us.cloud-object-storage.appdomain.cloud'\n",
    "# else:\n",
    "#     endpoint_69c05974e5c84795a978662af2736fc1 = 'https://s3.private.us.cloud-object-storage.appdomain.cloud'\n",
    "\n",
    "# client_69c05974e5c84795a978662af2736fc1 = ibm_boto3.client(service_name='s3',\n",
    "#     ibm_api_key_id='KNnyzgYsEAWBFEGgzWg_6j5CyAcjpaOlCPz3gd9KEdr_',\n",
    "#     ibm_auth_endpoint=\"https://iam.cloud.ibm.com/oidc/token\",\n",
    "#     config=Config(signature_version='oauth'),\n",
    "#     endpoint_url=endpoint_69c05974e5c84795a978662af2736fc1)\n",
    "\n",
    "# streaming_body_1 = client_69c05974e5c84795a978662af2736fc1.get_object(Bucket='ecgimagebasedheartbeatclassificat-donotdelete-pr-l2ugdciyflqayf', Key='data.zip')['Body']\n",
    "\n",
    "# # Your data file was loaded into a botocore.response.StreamingBody object.\n",
    "# # Please read the documentation of ibm_boto3 and pandas to learn more about the possibilities to load the data.\n",
    "# # ibm_boto3 documentation: https://ibm.github.io/ibm-cos-sdk-python/\n",
    "# # pandas documentation: http://pandas.pydata.org/\n"
   ]
  },
  {
   "cell_type": "code",
   "execution_count": null,
   "metadata": {},
   "outputs": [],
   "source": [
    "# from io import BytesIO\n",
    "# import zipfile\n",
    "# unzip = zipfile.ZipFile(BytesIO(streaming_body_1.read()),'r')\n",
    "# file_paths=unzip.namelist()\n",
    "# for path in file_paths:\n",
    "#     unzip.extract(path)"
   ]
  },
  {
   "cell_type": "code",
   "execution_count": 8,
   "metadata": {},
   "outputs": [
    {
     "data": {
      "text/plain": [
       "'C:\\\\Users\\\\Ishika Naik\\\\Desktop\\\\Work\\\\Smartbridge\\\\Notebook Implementation'"
      ]
     },
     "execution_count": 8,
     "metadata": {},
     "output_type": "execute_result"
    }
   ],
   "source": [
    "pwd"
   ]
  },
  {
   "cell_type": "code",
   "execution_count": 10,
   "metadata": {},
   "outputs": [],
   "source": [
    "import os\n",
    "filenames = os.listdir('C:\\\\Users\\\\Ishika Naik\\\\Desktop\\\\Work\\\\Smartbridge\\\\Notebook Implementation')"
   ]
  },
  {
   "cell_type": "code",
   "execution_count": 11,
   "metadata": {},
   "outputs": [
    {
     "name": "stdout",
     "output_type": "stream",
     "text": [
      "Found 15341 images belonging to 6 classes.\n",
      "Found 6825 images belonging to 6 classes.\n"
     ]
    }
   ],
   "source": [
    "#performing data agumentation to train data\n",
    "x_train=train_datagen.flow_from_directory('C:\\\\Users\\\\Ishika Naik\\\\Desktop\\\\Work\\\\Smartbridge\\\\Notebook Implementation\\\\data\\\\train'\n",
    "                                          ,target_size=(64,64),batch_size=32,class_mode='categorical')\n",
    "#performing data agumentation to test data\n",
    "x_test=test_datagen.flow_from_directory('C:\\\\Users\\\\Ishika Naik\\\\Desktop\\\\Work\\\\Smartbridge\\\\Notebook Implementation\\\\data\\\\test'\n",
    "                                        ,target_size=(64,64),batch_size=32,class_mode='categorical')"
   ]
  },
  {
   "cell_type": "code",
   "execution_count": 12,
   "metadata": {},
   "outputs": [
    {
     "name": "stdout",
     "output_type": "stream",
     "text": [
      "{'Left Bundle Branch Block': 0, 'Normal': 1, 'Premature Atrial Contraction': 2, 'Premature Ventricular Contractions': 3, 'Right Bundle Branch Block': 4, 'Ventricular Fibrillation': 5}\n"
     ]
    }
   ],
   "source": [
    "print(x_train.class_indices)#checking the number of classes"
   ]
  },
  {
   "cell_type": "code",
   "execution_count": 13,
   "metadata": {},
   "outputs": [
    {
     "data": {
      "text/plain": [
       "Counter({0: 504, 1: 7346, 2: 2054, 3: 2759, 4: 2239, 5: 439})"
      ]
     },
     "execution_count": 13,
     "metadata": {},
     "output_type": "execute_result"
    }
   ],
   "source": [
    "from collections import Counter as c\n",
    "c(x_train.labels)"
   ]
  },
  {
   "cell_type": "markdown",
   "metadata": {},
   "source": [
    "### Creating the model"
   ]
  },
  {
   "cell_type": "code",
   "execution_count": 14,
   "metadata": {},
   "outputs": [],
   "source": [
    "# create model\n",
    "model=Sequential()\n",
    "# adding model layer\n",
    "model.add(Conv2D(32,(3,3),input_shape=(64,64,3),activation='relu'))#convolutional layer\n",
    "model.add(MaxPooling2D(pool_size=(2,2))) #MaxPooling2D-for downsampling the input\n",
    "\n",
    "model.add(Conv2D(32,(3,3),activation='relu'))\n",
    "model.add(MaxPooling2D(pool_size=(2,2)))\n",
    "\n",
    "model.add(Flatten())#flatten the dimension of the image\n",
    "model.add(Dense(32))#deeply connected neural network layers.\n",
    "model.add(Dense(6,activation='softmax'))#output layer with 6 neurons\n"
   ]
  },
  {
   "cell_type": "code",
   "execution_count": 15,
   "metadata": {},
   "outputs": [
    {
     "name": "stdout",
     "output_type": "stream",
     "text": [
      "Model: \"sequential\"\n",
      "_________________________________________________________________\n",
      " Layer (type)                Output Shape              Param #   \n",
      "=================================================================\n",
      " conv2d (Conv2D)             (None, 62, 62, 32)        896       \n",
      "                                                                 \n",
      " max_pooling2d (MaxPooling2D  (None, 31, 31, 32)       0         \n",
      " )                                                               \n",
      "                                                                 \n",
      " conv2d_1 (Conv2D)           (None, 29, 29, 32)        9248      \n",
      "                                                                 \n",
      " max_pooling2d_1 (MaxPooling  (None, 14, 14, 32)       0         \n",
      " 2D)                                                             \n",
      "                                                                 \n",
      " flatten (Flatten)           (None, 6272)              0         \n",
      "                                                                 \n",
      " dense (Dense)               (None, 32)                200736    \n",
      "                                                                 \n",
      " dense_1 (Dense)             (None, 6)                 198       \n",
      "                                                                 \n",
      "=================================================================\n",
      "Total params: 211,078\n",
      "Trainable params: 211,078\n",
      "Non-trainable params: 0\n",
      "_________________________________________________________________\n"
     ]
    }
   ],
   "source": [
    "model.summary()#summary of our model"
   ]
  },
  {
   "cell_type": "markdown",
   "metadata": {},
   "source": [
    "### Compiling the model"
   ]
  },
  {
   "cell_type": "code",
   "execution_count": 16,
   "metadata": {},
   "outputs": [],
   "source": [
    "# Compile model\n",
    "model.compile(optimizer='adam',loss='categorical_crossentropy',metrics=['accuracy'])"
   ]
  },
  {
   "cell_type": "markdown",
   "metadata": {},
   "source": [
    "### Fitting the model"
   ]
  },
  {
   "cell_type": "code",
   "execution_count": 17,
   "metadata": {},
   "outputs": [
    {
     "name": "stdout",
     "output_type": "stream",
     "text": [
      "Epoch 1/10\n"
     ]
    },
    {
     "name": "stderr",
     "output_type": "stream",
     "text": [
      "<ipython-input-17-c0a9ac98ad41>:2: UserWarning: `Model.fit_generator` is deprecated and will be removed in a future version. Please use `Model.fit`, which supports generators.\n",
      "  model.fit_generator(generator=x_train,steps_per_epoch = len(x_train),\n"
     ]
    },
    {
     "name": "stdout",
     "output_type": "stream",
     "text": [
      "480/480 [==============================] - 62s 129ms/step - loss: 0.6985 - accuracy: 0.7654 - val_loss: 0.5429 - val_accuracy: 0.8258\n",
      "Epoch 2/10\n",
      "480/480 [==============================] - 47s 97ms/step - loss: 0.2803 - accuracy: 0.9164 - val_loss: 0.4645 - val_accuracy: 0.8589\n",
      "Epoch 3/10\n",
      "480/480 [==============================] - 47s 99ms/step - loss: 0.2188 - accuracy: 0.9351 - val_loss: 0.4243 - val_accuracy: 0.8752\n",
      "Epoch 4/10\n",
      "480/480 [==============================] - 49s 103ms/step - loss: 0.1832 - accuracy: 0.9436 - val_loss: 0.2591 - val_accuracy: 0.9232\n",
      "Epoch 5/10\n",
      "480/480 [==============================] - 49s 101ms/step - loss: 0.1589 - accuracy: 0.9532 - val_loss: 0.2975 - val_accuracy: 0.9111\n",
      "Epoch 6/10\n",
      "480/480 [==============================] - 51s 106ms/step - loss: 0.1414 - accuracy: 0.9583 - val_loss: 0.3855 - val_accuracy: 0.8964\n",
      "Epoch 7/10\n",
      "480/480 [==============================] - 49s 102ms/step - loss: 0.1240 - accuracy: 0.9628 - val_loss: 0.3243 - val_accuracy: 0.9137\n",
      "Epoch 8/10\n",
      "480/480 [==============================] - 48s 101ms/step - loss: 0.1129 - accuracy: 0.9656 - val_loss: 0.3137 - val_accuracy: 0.9146\n",
      "Epoch 9/10\n",
      "480/480 [==============================] - 49s 102ms/step - loss: 0.1079 - accuracy: 0.9670 - val_loss: 0.4314 - val_accuracy: 0.9058\n",
      "Epoch 10/10\n",
      "480/480 [==============================] - 49s 102ms/step - loss: 0.0984 - accuracy: 0.9707 - val_loss: 0.3181 - val_accuracy: 0.9262\n"
     ]
    },
    {
     "data": {
      "text/plain": [
       "<keras.callbacks.History at 0x25afb01a460>"
      ]
     },
     "execution_count": 17,
     "metadata": {},
     "output_type": "execute_result"
    }
   ],
   "source": [
    "# Fit the model \n",
    "model.fit_generator(generator=x_train,steps_per_epoch = len(x_train),\n",
    "                    epochs=10, validation_data=x_test,validation_steps = len(x_test))"
   ]
  },
  {
   "cell_type": "code",
   "execution_count": null,
   "metadata": {},
   "outputs": [],
   "source": [
    "# model.fit_generator(x_train,epochs=10,validation_data=x_test)"
   ]
  },
  {
   "cell_type": "markdown",
   "metadata": {},
   "source": [
    "### Saving our model"
   ]
  },
  {
   "cell_type": "code",
   "execution_count": 18,
   "metadata": {},
   "outputs": [],
   "source": [
    "# Save the model\n",
    "from tensorflow.keras.models import load_model\n",
    "model.save('ECG.h5')"
   ]
  },
  {
   "cell_type": "code",
   "execution_count": null,
   "metadata": {},
   "outputs": [],
   "source": [
    "!tar -zcvf ECG-Image-based-heartbeat-classification-model_new.tgz ECG.h5"
   ]
  },
  {
   "cell_type": "code",
   "execution_count": null,
   "metadata": {},
   "outputs": [],
   "source": [
    "ls -1"
   ]
  },
  {
   "cell_type": "code",
   "execution_count": null,
   "metadata": {},
   "outputs": [],
   "source": [
    "!pip install watson-machine-learning-client --upgrade"
   ]
  },
  {
   "cell_type": "code",
   "execution_count": null,
   "metadata": {},
   "outputs": [],
   "source": [
    "# Replace the credentials that you got from watson machine learning service\n",
    "from ibm_watson_machine_learning import APIClient\n",
    "wml_credentials = {\n",
    "                    \"url\": \"https://us-south.ml.cloud.ibm.com\",\n",
    "                    \"apikey\":\"2ZA2s4mEw-tcZcUIVsD61z9Ue76hVEg-mKMC2P0Q5r9h\"\n",
    "                  }\n",
    "client = APIClient(wml_credentials)\n"
   ]
  },
  {
   "cell_type": "code",
   "execution_count": null,
   "metadata": {},
   "outputs": [],
   "source": [
    "client = APIClient(wml_credentials)"
   ]
  },
  {
   "cell_type": "code",
   "execution_count": null,
   "metadata": {},
   "outputs": [],
   "source": [
    "def guid_from_space_name(client, space_name):\n",
    "    space = client.spaces.get_details()\n",
    "    #print(space)\n",
    "    return(next(item for item in space['resources'] if item['entity']['name'] == space_name)['metadata']['id'])"
   ]
  },
  {
   "cell_type": "code",
   "execution_count": null,
   "metadata": {},
   "outputs": [],
   "source": [
    "space_uid = guid_from_space_name(client, 'imageclassification')\n",
    "print(\"Space UID = \"+ space_uid)"
   ]
  },
  {
   "cell_type": "code",
   "execution_count": null,
   "metadata": {},
   "outputs": [],
   "source": [
    "client.set.default_space(space_uid)"
   ]
  },
  {
   "cell_type": "code",
   "execution_count": null,
   "metadata": {},
   "outputs": [],
   "source": [
    "client.software_specifications.list()"
   ]
  },
  {
   "cell_type": "code",
   "execution_count": null,
   "metadata": {},
   "outputs": [],
   "source": [
    "software_spec_uid = client.software_specifications.get_uid_by_name(\"tensorflow_1.15-py3.6\")\n",
    "software_spec_uid"
   ]
  },
  {
   "cell_type": "code",
   "execution_count": null,
   "metadata": {},
   "outputs": [],
   "source": [
    "model_details = client.repository.store_model(model='ECG-Image-based-heartbeat-classification-model_new.tgz',meta_props={\n",
    "client.repository.ModelMetaNames.NAME:\"CNN\",\n",
    "client.repository.ModelMetaNames.TYPE:\"keras_2.2.4\",\n",
    "client.repository.ModelMetaNames.SOFTWARE_SPEC_UID:software_spec_uid}\n",
    "                                              )\n",
    "model_id = client.repository.get_model_uid(model_details)\n",
    "    "
   ]
  },
  {
   "cell_type": "code",
   "execution_count": null,
   "metadata": {},
   "outputs": [],
   "source": [
    "model_id"
   ]
  },
  {
   "cell_type": "code",
   "execution_count": null,
   "metadata": {},
   "outputs": [],
   "source": [
    "client.repository.download(model_id, 'my_model.tar.gz')"
   ]
  },
  {
   "cell_type": "code",
   "execution_count": null,
   "metadata": {},
   "outputs": [],
   "source": [
    "from tensorflow.keras.models import load_model\n",
    "from tensorflow.keras.preprocessing import image"
   ]
  },
  {
   "cell_type": "code",
   "execution_count": null,
   "metadata": {},
   "outputs": [],
   "source": [
    "model = load_model(\"ECG.h5\")"
   ]
  },
  {
   "cell_type": "code",
   "execution_count": null,
   "metadata": {},
   "outputs": [],
   "source": []
  }
 ],
 "metadata": {
  "kernelspec": {
   "display_name": "Python 3",
   "language": "python",
   "name": "python3"
  },
  "language_info": {
   "codemirror_mode": {
    "name": "ipython",
    "version": 3
   },
   "file_extension": ".py",
   "mimetype": "text/x-python",
   "name": "python",
   "nbconvert_exporter": "python",
   "pygments_lexer": "ipython3",
   "version": "3.8.5"
  }
 },
 "nbformat": 4,
 "nbformat_minor": 4
}
